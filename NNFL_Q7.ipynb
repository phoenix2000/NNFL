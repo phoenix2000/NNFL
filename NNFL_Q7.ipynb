{
  "nbformat": 4,
  "nbformat_minor": 0,
  "metadata": {
    "colab": {
      "name": "NNFL_Q7.ipynb",
      "provenance": [],
      "collapsed_sections": [],
      "authorship_tag": "ABX9TyPmBg15jD+Klo9b2w9US3Fl",
      "include_colab_link": true
    },
    "kernelspec": {
      "name": "python3",
      "display_name": "Python 3"
    }
  },
  "cells": [
    {
      "cell_type": "markdown",
      "metadata": {
        "id": "view-in-github",
        "colab_type": "text"
      },
      "source": [
        "<a href=\"https://colab.research.google.com/github/phoenix2000/NNFL/blob/main/NNFL_Q7.ipynb\" target=\"_parent\"><img src=\"https://colab.research.google.com/assets/colab-badge.svg\" alt=\"Open In Colab\"/></a>"
      ]
    },
    {
      "cell_type": "code",
      "metadata": {
        "id": "wBP5VEJhXRf_"
      },
      "source": [
        "!pip install -U -q PyDrive\n",
        "from pydrive.auth import GoogleAuth\n",
        "from pydrive.drive import GoogleDrive\n",
        "from google.colab import auth\n",
        "from oauth2client.client import GoogleCredentials"
      ],
      "execution_count": null,
      "outputs": []
    },
    {
      "cell_type": "code",
      "metadata": {
        "id": "jgJG-a4BXVwd"
      },
      "source": [
        "auth.authenticate_user()\n",
        "gauth = GoogleAuth()\n",
        "gauth.credentials = GoogleCredentials.get_application_default()\n",
        "drive = GoogleDrive(gauth)"
      ],
      "execution_count": null,
      "outputs": []
    },
    {
      "cell_type": "code",
      "metadata": {
        "id": "LNlmMMUiXZRf"
      },
      "source": [
        "downloaded = drive.CreateFile({'id':'1IRrF07EXN1Ey7tXgxX29LZFxrCEWjinj'}) \n",
        "downloaded.GetContentFile('data3.xlsx')"
      ],
      "execution_count": null,
      "outputs": []
    },
    {
      "cell_type": "code",
      "metadata": {
        "id": "JMRojEp7XnW7"
      },
      "source": [
        "import pandas as pd\n",
        "import numpy as np\n",
        "import math \n",
        "import matplotlib.pyplot as plt\n",
        "import plotly.graph_objs as go\n",
        "from mpl_toolkits.mplot3d import Axes3D\n",
        "data1=pd.read_excel('data3.xlsx')"
      ],
      "execution_count": null,
      "outputs": []
    },
    {
      "cell_type": "code",
      "metadata": {
        "id": "rY43zJiJXpsY"
      },
      "source": [
        "data=data1.to_numpy()\n",
        "np.random.shuffle(data)\n",
        "data_new=data\n",
        "data_mean=np.mean(data_new,axis=0)\n",
        "data_stddev=np.std(data_new,axis=0)\n",
        "data_finall=(data_new-data_mean)/data_stddev\n",
        "ones=np.ones((99))\n",
        "y_values=data[:,4]\n",
        "data_new=data_finall[:,0:4]\n",
        "data_final=np.insert(data_new,0,ones,axis=1)\n"
      ],
      "execution_count": null,
      "outputs": []
    },
    {
      "cell_type": "code",
      "metadata": {
        "id": "z91Y32dFaRFY"
      },
      "source": [
        "np.random.shuffle(data_final)\n",
        "x_train=data_final[0:60,:]\n",
        "x_test=data_final[60:,:]\n",
        "y_train=y_values[0:60]\n",
        "y_test=y_values[60:]\n",
        "y_test1=(y_test-np.mean(y_test))/(np.std(y_test))\n",
        "y_train1=(y_train-np.mean(y_train))/(np.std(y_train))\n",
        "np.std(y_test)"
      ],
      "execution_count": null,
      "outputs": []
    },
    {
      "cell_type": "code",
      "metadata": {
        "id": "eHVg-8B1bhN2"
      },
      "source": [
        "def sigmoid(x):\n",
        "  y=1/(1+np.exp(-x))\n",
        "  return y"
      ],
      "execution_count": null,
      "outputs": []
    },
    {
      "cell_type": "code",
      "metadata": {
        "id": "zAo9dkZjjZVm"
      },
      "source": [
        "m,n=np.shape(x_train)\n",
        "\n",
        "def cost_func(x,y,w):\n",
        "  J=0\n",
        "  for i in range(m):\n",
        "    J=-(1/m)*(y[i]*np.log(sigmoid(np.dot(w,x[i].T)))+(1-y[i])*(np.log(1-sigmoid(np.dot(w,x[i].T)))))\n",
        "  return J\n"
      ],
      "execution_count": null,
      "outputs": []
    },
    {
      "cell_type": "code",
      "metadata": {
        "id": "Ga627RR_jbGL",
        "outputId": "4dcf478e-4d52-4eb2-c9c9-1d70f4097f3e",
        "colab": {
          "base_uri": "https://localhost:8080/",
          "height": 313
        }
      },
      "source": [
        "m,n=np.shape(x_train)\n",
        "w=np.zeros((1,5))\n",
        "W=np.zeros((10000,5))\n",
        "JJ=np.zeros((10000,1))\n",
        "\n",
        "def grad_desc(x,y,alpha,iterations):\n",
        "  W[0,0]=w[0,0]\n",
        "  W[0,1]=w[0,1]\n",
        "  W[0,2]=w[0,2]\n",
        "  W[0,3]=w[0,3]\n",
        "  W[0,4]=w[0,4]\n",
        "  for k in range(iterations):\n",
        "    for i in range(m):\n",
        "      for j in range(5):\n",
        "        w[0,j]=w[0,j]-(1/m)*alpha*(y[i]*(1-sigmoid(np.dot(w,x[i].T)))-(1-y[i])*(sigmoid(np.dot(w,x[i].T))))*x[i,j]\n",
        "    W[k]=w\n",
        "    JJ[k]=cost_func(x,y,w)\n",
        "  plt.plot(JJ)\n",
        "grad_desc(x_train,y_train,0.01,10000)\n"
      ],
      "execution_count": null,
      "outputs": [
        {
          "output_type": "error",
          "ename": "KeyboardInterrupt",
          "evalue": "ignored",
          "traceback": [
            "\u001b[0;31m---------------------------------------------------------------------------\u001b[0m",
            "\u001b[0;31mKeyboardInterrupt\u001b[0m                         Traceback (most recent call last)",
            "\u001b[0;32m<ipython-input-45-84b0b486f518>\u001b[0m in \u001b[0;36m<module>\u001b[0;34m()\u001b[0m\n\u001b[1;32m     17\u001b[0m     \u001b[0mJJ\u001b[0m\u001b[0;34m[\u001b[0m\u001b[0mk\u001b[0m\u001b[0;34m]\u001b[0m\u001b[0;34m=\u001b[0m\u001b[0mcost_func\u001b[0m\u001b[0;34m(\u001b[0m\u001b[0mx\u001b[0m\u001b[0;34m,\u001b[0m\u001b[0my\u001b[0m\u001b[0;34m,\u001b[0m\u001b[0mw\u001b[0m\u001b[0;34m)\u001b[0m\u001b[0;34m\u001b[0m\u001b[0;34m\u001b[0m\u001b[0m\n\u001b[1;32m     18\u001b[0m   \u001b[0mplt\u001b[0m\u001b[0;34m.\u001b[0m\u001b[0mplot\u001b[0m\u001b[0;34m(\u001b[0m\u001b[0mJJ\u001b[0m\u001b[0;34m)\u001b[0m\u001b[0;34m\u001b[0m\u001b[0;34m\u001b[0m\u001b[0m\n\u001b[0;32m---> 19\u001b[0;31m \u001b[0mgrad_desc\u001b[0m\u001b[0;34m(\u001b[0m\u001b[0mx_train\u001b[0m\u001b[0;34m,\u001b[0m\u001b[0my_train\u001b[0m\u001b[0;34m,\u001b[0m\u001b[0;36m0.01\u001b[0m\u001b[0;34m,\u001b[0m\u001b[0;36m10000\u001b[0m\u001b[0;34m)\u001b[0m\u001b[0;34m\u001b[0m\u001b[0;34m\u001b[0m\u001b[0m\n\u001b[0m",
            "\u001b[0;32m<ipython-input-45-84b0b486f518>\u001b[0m in \u001b[0;36mgrad_desc\u001b[0;34m(x, y, alpha, iterations)\u001b[0m\n\u001b[1;32m     13\u001b[0m     \u001b[0;32mfor\u001b[0m \u001b[0mi\u001b[0m \u001b[0;32min\u001b[0m \u001b[0mrange\u001b[0m\u001b[0;34m(\u001b[0m\u001b[0mm\u001b[0m\u001b[0;34m)\u001b[0m\u001b[0;34m:\u001b[0m\u001b[0;34m\u001b[0m\u001b[0;34m\u001b[0m\u001b[0m\n\u001b[1;32m     14\u001b[0m       \u001b[0;32mfor\u001b[0m \u001b[0mj\u001b[0m \u001b[0;32min\u001b[0m \u001b[0mrange\u001b[0m\u001b[0;34m(\u001b[0m\u001b[0;36m5\u001b[0m\u001b[0;34m)\u001b[0m\u001b[0;34m:\u001b[0m\u001b[0;34m\u001b[0m\u001b[0;34m\u001b[0m\u001b[0m\n\u001b[0;32m---> 15\u001b[0;31m         \u001b[0mw\u001b[0m\u001b[0;34m[\u001b[0m\u001b[0;36m0\u001b[0m\u001b[0;34m,\u001b[0m\u001b[0mj\u001b[0m\u001b[0;34m]\u001b[0m\u001b[0;34m=\u001b[0m\u001b[0mw\u001b[0m\u001b[0;34m[\u001b[0m\u001b[0;36m0\u001b[0m\u001b[0;34m,\u001b[0m\u001b[0mj\u001b[0m\u001b[0;34m]\u001b[0m\u001b[0;34m-\u001b[0m\u001b[0;34m(\u001b[0m\u001b[0;36m1\u001b[0m\u001b[0;34m/\u001b[0m\u001b[0mm\u001b[0m\u001b[0;34m)\u001b[0m\u001b[0;34m*\u001b[0m\u001b[0malpha\u001b[0m\u001b[0;34m*\u001b[0m\u001b[0;34m(\u001b[0m\u001b[0my\u001b[0m\u001b[0;34m[\u001b[0m\u001b[0mi\u001b[0m\u001b[0;34m]\u001b[0m\u001b[0;34m*\u001b[0m\u001b[0;34m(\u001b[0m\u001b[0;36m1\u001b[0m\u001b[0;34m-\u001b[0m\u001b[0msigmoid\u001b[0m\u001b[0;34m(\u001b[0m\u001b[0mnp\u001b[0m\u001b[0;34m.\u001b[0m\u001b[0mdot\u001b[0m\u001b[0;34m(\u001b[0m\u001b[0mw\u001b[0m\u001b[0;34m,\u001b[0m\u001b[0mx\u001b[0m\u001b[0;34m[\u001b[0m\u001b[0mi\u001b[0m\u001b[0;34m]\u001b[0m\u001b[0;34m.\u001b[0m\u001b[0mT\u001b[0m\u001b[0;34m)\u001b[0m\u001b[0;34m)\u001b[0m\u001b[0;34m)\u001b[0m\u001b[0;34m-\u001b[0m\u001b[0;34m(\u001b[0m\u001b[0;36m1\u001b[0m\u001b[0;34m-\u001b[0m\u001b[0my\u001b[0m\u001b[0;34m[\u001b[0m\u001b[0mi\u001b[0m\u001b[0;34m]\u001b[0m\u001b[0;34m)\u001b[0m\u001b[0;34m*\u001b[0m\u001b[0;34m(\u001b[0m\u001b[0msigmoid\u001b[0m\u001b[0;34m(\u001b[0m\u001b[0mnp\u001b[0m\u001b[0;34m.\u001b[0m\u001b[0mdot\u001b[0m\u001b[0;34m(\u001b[0m\u001b[0mw\u001b[0m\u001b[0;34m,\u001b[0m\u001b[0mx\u001b[0m\u001b[0;34m[\u001b[0m\u001b[0mi\u001b[0m\u001b[0;34m]\u001b[0m\u001b[0;34m.\u001b[0m\u001b[0mT\u001b[0m\u001b[0;34m)\u001b[0m\u001b[0;34m)\u001b[0m\u001b[0;34m)\u001b[0m\u001b[0;34m)\u001b[0m\u001b[0;34m*\u001b[0m\u001b[0mx\u001b[0m\u001b[0;34m[\u001b[0m\u001b[0mi\u001b[0m\u001b[0;34m,\u001b[0m\u001b[0mj\u001b[0m\u001b[0;34m]\u001b[0m\u001b[0;34m\u001b[0m\u001b[0;34m\u001b[0m\u001b[0m\n\u001b[0m\u001b[1;32m     16\u001b[0m     \u001b[0mW\u001b[0m\u001b[0;34m[\u001b[0m\u001b[0mk\u001b[0m\u001b[0;34m]\u001b[0m\u001b[0;34m=\u001b[0m\u001b[0mw\u001b[0m\u001b[0;34m\u001b[0m\u001b[0;34m\u001b[0m\u001b[0m\n\u001b[1;32m     17\u001b[0m     \u001b[0mJJ\u001b[0m\u001b[0;34m[\u001b[0m\u001b[0mk\u001b[0m\u001b[0;34m]\u001b[0m\u001b[0;34m=\u001b[0m\u001b[0mcost_func\u001b[0m\u001b[0;34m(\u001b[0m\u001b[0mx\u001b[0m\u001b[0;34m,\u001b[0m\u001b[0my\u001b[0m\u001b[0;34m,\u001b[0m\u001b[0mw\u001b[0m\u001b[0;34m)\u001b[0m\u001b[0;34m\u001b[0m\u001b[0;34m\u001b[0m\u001b[0m\n",
            "\u001b[0;31mKeyboardInterrupt\u001b[0m: "
          ]
        }
      ]
    },
    {
      "cell_type": "code",
      "metadata": {
        "id": "yKSrHW05ZIJp"
      },
      "source": [
        "  y_pred=np.zeros((m,1))\n",
        "  for i in range(m):\n",
        "    y_pred[i]=sigmoid(np.dot(W[999],x_train[i].T))\n",
        "  threshold=0.5\n",
        "  y_new=np.zeros((m,1))\n",
        "  for i in range(m):\n",
        "    if y_pred[i]>=0.5:\n",
        "      y_new[i]=2\n",
        "    else:\n",
        "      y_new[i]=1\n",
        "  y_new-y_train"
      ],
      "execution_count": null,
      "outputs": []
    },
    {
      "cell_type": "code",
      "metadata": {
        "id": "wzfeeRQ0cSHH",
        "outputId": "0ef0e85d-c464-4740-ff1d-ec6a1cad2691",
        "colab": {
          "base_uri": "https://localhost:8080/",
          "height": 1000
        }
      },
      "source": [
        "y_pred=np.zeros((m,1))\n",
        "for i in range(m):\n",
        "    y_pred[i]=sigmoid(np.dot(w,x_train[i].T))\n",
        "y_pred"
      ],
      "execution_count": null,
      "outputs": [
        {
          "output_type": "execute_result",
          "data": {
            "text/plain": [
              "array([[2.11494004e-06],\n",
              "       [1.56281549e-05],\n",
              "       [3.91559651e-08],\n",
              "       [1.06565164e-07],\n",
              "       [3.79094287e-06],\n",
              "       [5.97065466e-08],\n",
              "       [1.72452311e-06],\n",
              "       [4.38998980e-06],\n",
              "       [5.17152072e-08],\n",
              "       [7.29264055e-06],\n",
              "       [5.53714633e-06],\n",
              "       [5.04853992e-07],\n",
              "       [6.96172892e-06],\n",
              "       [4.38741638e-08],\n",
              "       [8.01862626e-06],\n",
              "       [2.11190125e-07],\n",
              "       [5.79537654e-06],\n",
              "       [1.49986973e-07],\n",
              "       [2.59176997e-07],\n",
              "       [1.46088621e-07],\n",
              "       [4.12479039e-06],\n",
              "       [3.94006345e-08],\n",
              "       [3.81302705e-08],\n",
              "       [1.09712109e-07],\n",
              "       [2.43602881e-06],\n",
              "       [8.84686967e-08],\n",
              "       [1.75292499e-05],\n",
              "       [1.54322867e-07],\n",
              "       [4.71026483e-07],\n",
              "       [4.47036207e-07],\n",
              "       [7.79027584e-06],\n",
              "       [1.30411582e-07],\n",
              "       [8.33735424e-08],\n",
              "       [1.74346746e-06],\n",
              "       [1.94390233e-06],\n",
              "       [6.73302821e-08],\n",
              "       [1.67865674e-07],\n",
              "       [3.35966814e-06],\n",
              "       [2.75415292e-08],\n",
              "       [9.19252002e-08],\n",
              "       [7.13386185e-08],\n",
              "       [5.28343883e-06],\n",
              "       [2.02192431e-06],\n",
              "       [1.58494535e-06],\n",
              "       [7.50359745e-08],\n",
              "       [1.25229923e-06],\n",
              "       [9.93576060e-08],\n",
              "       [1.46462907e-07],\n",
              "       [1.08104413e-07],\n",
              "       [2.05427593e-06],\n",
              "       [4.03362247e-07],\n",
              "       [1.23034646e-05],\n",
              "       [8.67601559e-08],\n",
              "       [1.98804164e-06],\n",
              "       [2.08449884e-07],\n",
              "       [8.43249433e-08],\n",
              "       [2.21130301e-06],\n",
              "       [8.78477998e-08],\n",
              "       [1.56678021e-06],\n",
              "       [9.48243360e-06]])"
            ]
          },
          "metadata": {
            "tags": []
          },
          "execution_count": 40
        }
      ]
    },
    {
      "cell_type": "code",
      "metadata": {
        "id": "yqhQK3CYdGK0"
      },
      "source": [
        ""
      ],
      "execution_count": null,
      "outputs": []
    }
  ]
}