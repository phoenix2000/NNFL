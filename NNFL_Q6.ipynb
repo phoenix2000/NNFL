{
  "nbformat": 4,
  "nbformat_minor": 0,
  "metadata": {
    "colab": {
      "name": "NNFL_Q6.ipynb",
      "provenance": [],
      "collapsed_sections": [],
      "authorship_tag": "ABX9TyOt9KwrzTTjp79lyOFpXKbg",
      "include_colab_link": true
    },
    "kernelspec": {
      "name": "python3",
      "display_name": "Python 3"
    }
  },
  "cells": [
    {
      "cell_type": "markdown",
      "metadata": {
        "id": "view-in-github",
        "colab_type": "text"
      },
      "source": [
        "<a href=\"https://colab.research.google.com/github/phoenix2000/NNFL/blob/main/NNFL_Q6.ipynb\" target=\"_parent\"><img src=\"https://colab.research.google.com/assets/colab-badge.svg\" alt=\"Open In Colab\"/></a>"
      ]
    },
    {
      "cell_type": "code",
      "metadata": {
        "id": "uBjeKIER60Ou"
      },
      "source": [
        "!pip install -U -q PyDrive\n",
        "from pydrive.auth import GoogleAuth\n",
        "from pydrive.drive import GoogleDrive\n",
        "from google.colab import auth\n",
        "from oauth2client.client import GoogleCredentials"
      ],
      "execution_count": null,
      "outputs": []
    },
    {
      "cell_type": "code",
      "metadata": {
        "id": "_8YWu5_h7V76"
      },
      "source": [
        "auth.authenticate_user()\n",
        "gauth = GoogleAuth()\n",
        "gauth.credentials = GoogleCredentials.get_application_default()\n",
        "drive = GoogleDrive(gauth)"
      ],
      "execution_count": null,
      "outputs": []
    },
    {
      "cell_type": "code",
      "metadata": {
        "id": "g4gPWeQi7aOM"
      },
      "source": [
        "downloaded = drive.CreateFile({'id':'1QhDxyM3_ZtQsVV9Bflm-QcRDQUExXkN7'}) \n",
        "downloaded.GetContentFile('data2.xlsx')"
      ],
      "execution_count": null,
      "outputs": []
    },
    {
      "cell_type": "code",
      "metadata": {
        "id": "E2LgNrsP78R5",
        "outputId": "7a8a6192-0fb8-42f5-d4e2-0e174baf40b3",
        "colab": {
          "base_uri": "https://localhost:8080/",
          "height": 404
        }
      },
      "source": [
        "import pandas as pd\n",
        "import numpy as np\n",
        "import matplotlib.pyplot as plt\n",
        "import plotly.graph_objs as go\n",
        "from mpl_toolkits.mplot3d import Axes3D\n",
        "data=pd.read_excel('data2.xlsx', names=['x1','x2','x3','x4'])\n",
        "data"
      ],
      "execution_count": null,
      "outputs": [
        {
          "output_type": "execute_result",
          "data": {
            "text/html": [
              "<div>\n",
              "<style scoped>\n",
              "    .dataframe tbody tr th:only-of-type {\n",
              "        vertical-align: middle;\n",
              "    }\n",
              "\n",
              "    .dataframe tbody tr th {\n",
              "        vertical-align: top;\n",
              "    }\n",
              "\n",
              "    .dataframe thead th {\n",
              "        text-align: right;\n",
              "    }\n",
              "</style>\n",
              "<table border=\"1\" class=\"dataframe\">\n",
              "  <thead>\n",
              "    <tr style=\"text-align: right;\">\n",
              "      <th></th>\n",
              "      <th>x1</th>\n",
              "      <th>x2</th>\n",
              "      <th>x3</th>\n",
              "      <th>x4</th>\n",
              "    </tr>\n",
              "  </thead>\n",
              "  <tbody>\n",
              "    <tr>\n",
              "      <th>0</th>\n",
              "      <td>4.9</td>\n",
              "      <td>3.0</td>\n",
              "      <td>1.4</td>\n",
              "      <td>0.2</td>\n",
              "    </tr>\n",
              "    <tr>\n",
              "      <th>1</th>\n",
              "      <td>4.7</td>\n",
              "      <td>3.2</td>\n",
              "      <td>1.3</td>\n",
              "      <td>0.2</td>\n",
              "    </tr>\n",
              "    <tr>\n",
              "      <th>2</th>\n",
              "      <td>4.6</td>\n",
              "      <td>3.1</td>\n",
              "      <td>1.5</td>\n",
              "      <td>0.2</td>\n",
              "    </tr>\n",
              "    <tr>\n",
              "      <th>3</th>\n",
              "      <td>5.0</td>\n",
              "      <td>3.6</td>\n",
              "      <td>1.4</td>\n",
              "      <td>0.2</td>\n",
              "    </tr>\n",
              "    <tr>\n",
              "      <th>4</th>\n",
              "      <td>5.4</td>\n",
              "      <td>3.9</td>\n",
              "      <td>1.7</td>\n",
              "      <td>0.4</td>\n",
              "    </tr>\n",
              "    <tr>\n",
              "      <th>...</th>\n",
              "      <td>...</td>\n",
              "      <td>...</td>\n",
              "      <td>...</td>\n",
              "      <td>...</td>\n",
              "    </tr>\n",
              "    <tr>\n",
              "      <th>144</th>\n",
              "      <td>6.7</td>\n",
              "      <td>3.0</td>\n",
              "      <td>5.2</td>\n",
              "      <td>2.3</td>\n",
              "    </tr>\n",
              "    <tr>\n",
              "      <th>145</th>\n",
              "      <td>6.3</td>\n",
              "      <td>2.5</td>\n",
              "      <td>5.0</td>\n",
              "      <td>1.9</td>\n",
              "    </tr>\n",
              "    <tr>\n",
              "      <th>146</th>\n",
              "      <td>6.5</td>\n",
              "      <td>3.0</td>\n",
              "      <td>5.2</td>\n",
              "      <td>2.0</td>\n",
              "    </tr>\n",
              "    <tr>\n",
              "      <th>147</th>\n",
              "      <td>6.2</td>\n",
              "      <td>3.4</td>\n",
              "      <td>5.4</td>\n",
              "      <td>2.3</td>\n",
              "    </tr>\n",
              "    <tr>\n",
              "      <th>148</th>\n",
              "      <td>5.9</td>\n",
              "      <td>3.0</td>\n",
              "      <td>5.1</td>\n",
              "      <td>1.8</td>\n",
              "    </tr>\n",
              "  </tbody>\n",
              "</table>\n",
              "<p>149 rows × 4 columns</p>\n",
              "</div>"
            ],
            "text/plain": [
              "      x1   x2   x3   x4\n",
              "0    4.9  3.0  1.4  0.2\n",
              "1    4.7  3.2  1.3  0.2\n",
              "2    4.6  3.1  1.5  0.2\n",
              "3    5.0  3.6  1.4  0.2\n",
              "4    5.4  3.9  1.7  0.4\n",
              "..   ...  ...  ...  ...\n",
              "144  6.7  3.0  5.2  2.3\n",
              "145  6.3  2.5  5.0  1.9\n",
              "146  6.5  3.0  5.2  2.0\n",
              "147  6.2  3.4  5.4  2.3\n",
              "148  5.9  3.0  5.1  1.8\n",
              "\n",
              "[149 rows x 4 columns]"
            ]
          },
          "metadata": {
            "tags": []
          },
          "execution_count": 61
        }
      ]
    },
    {
      "cell_type": "code",
      "metadata": {
        "id": "pTn8LKnN8LPo"
      },
      "source": [
        "def k_means_clustering(k):\n",
        "  k_means=data.sample(k,replace=False)\n",
        "  k_means=pd.DataFrame()\n",
        "  clusters"
      ],
      "execution_count": null,
      "outputs": []
    },
    {
      "cell_type": "code",
      "metadata": {
        "id": "16FjKAI68Shn"
      },
      "source": [
        "while not k_means.equals(k_means2):\n",
        "  cnt_cluster=0\n",
        "  for idx, k_mean in k_means.iterrows():\n",
        "    clusters[cnt_cluster]=(data[k_means.columns]-np.array(k_mean)).pow(2).sum(1).pow(0.5)\n",
        "    cnt_cluster+=1\n",
        "  \n",
        "  \n",
        "  data['Labels']=clusters.idxmin(axis=1)\n",
        "\n",
        "  k_means2=k_means\n",
        "  k_means=pd.DataFrame()\n",
        "  k_means_frame=data.groupby('Labels').agg(np.mean)\n",
        "\n",
        "  k_means[k_means_frame.columns]=k_means_frame[k_means_frame.columns]\n"
      ],
      "execution_count": null,
      "outputs": []
    },
    {
      "cell_type": "code",
      "metadata": {
        "id": "s9VRSshg8Tce"
      },
      "source": [
        "def k_means_cluster(k):\n",
        "  k_means=data.sample(k,replace=False)\n",
        "  k_means2=pd.DataFrame()\n",
        "  clusters=pd.DataFrame()\n",
        "  #print('Initial means:\\n', k_means)\n",
        "\n",
        "  while not k_means2.equals(k_means):\n",
        "    num_cluster=0\n",
        "    for idx, k_mean in k_means.iterrows():\n",
        "      clusters[num_cluster]=(data[k_means.columns]-np.array(k_mean)).pow(2).sum(1).pow(0.5)\n",
        "      num_cluster+=1\n",
        "    \n",
        "    data['Labels']=clusters.idxmin(axis=1)\n",
        "\n",
        "    k_means2=k_means\n",
        "    k_means=pd.DataFrame()\n",
        "    k_means_frame=data.groupby('Labels').agg(np.mean)\n",
        "    k_means[k_means_frame.columns]=k_means_frame[k_means_frame.columns]\n",
        "    print(k_means.equals(k_means2))\n",
        "\n",
        "    data_graph=[go.Scatter(\n",
        "        x=data['x1'],y=data['x2'].where(data['Labels']==c),mode='markers',name='Cluster'+str(c)) \n",
        "        for c in range (k)]\n",
        "\n",
        "    data_graph.append(\n",
        "        go.Scatter(\n",
        "            x=k_means['x1'],y=k_means['x2'],mode='markers',marker=dict(size=10,color='#000000',\n",
        "                                                                         ),name='Centroids'\n",
        "                                                                         )\n",
        "    )\n",
        "\n",
        "    data_graph\n"
      ],
      "execution_count": null,
      "outputs": []
    },
    {
      "cell_type": "code",
      "metadata": {
        "id": "krG7X8OjOL_t",
        "outputId": "ca596197-053f-44dd-b1c1-9d48e8012d1e",
        "colab": {
          "base_uri": "https://localhost:8080/",
          "height": 134
        }
      },
      "source": [
        "k_means_cluster(3)"
      ],
      "execution_count": null,
      "outputs": [
        {
          "output_type": "stream",
          "text": [
            "False\n",
            "False\n",
            "False\n",
            "False\n",
            "False\n",
            "False\n",
            "True\n"
          ],
          "name": "stdout"
        }
      ]
    },
    {
      "cell_type": "code",
      "metadata": {
        "id": "MDfj5lihOPnD",
        "outputId": "f4017fea-6e3e-4a81-ec06-5ce7ad435f64",
        "colab": {
          "base_uri": "https://localhost:8080/",
          "height": 100
        }
      },
      "source": [
        "for col in data.columns:\n",
        "  print (col)"
      ],
      "execution_count": null,
      "outputs": [
        {
          "output_type": "stream",
          "text": [
            "x1\n",
            "x2\n",
            "x3\n",
            "x4\n",
            "Labels\n"
          ],
          "name": "stdout"
        }
      ]
    },
    {
      "cell_type": "code",
      "metadata": {
        "id": "hG2Cv7dROdgE"
      },
      "source": [
        ""
      ],
      "execution_count": null,
      "outputs": []
    }
  ]
}