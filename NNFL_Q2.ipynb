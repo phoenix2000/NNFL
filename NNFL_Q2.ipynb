{
  "nbformat": 4,
  "nbformat_minor": 0,
  "metadata": {
    "colab": {
      "name": "NNFL_Q2.ipynb",
      "provenance": [],
      "collapsed_sections": [],
      "authorship_tag": "ABX9TyOh12jVmc98nUPAeQfwi7zN",
      "include_colab_link": true
    },
    "kernelspec": {
      "name": "python3",
      "display_name": "Python 3"
    }
  },
  "cells": [
    {
      "cell_type": "markdown",
      "metadata": {
        "id": "view-in-github",
        "colab_type": "text"
      },
      "source": [
        "<a href=\"https://colab.research.google.com/github/phoenix2000/NNFL/blob/main/NNFL_Q2.ipynb\" target=\"_parent\"><img src=\"https://colab.research.google.com/assets/colab-badge.svg\" alt=\"Open In Colab\"/></a>"
      ]
    },
    {
      "cell_type": "code",
      "metadata": {
        "id": "vmIsPhfbakew"
      },
      "source": [
        "!pip install -U -q PyDrive\n",
        "from pydrive.auth import GoogleAuth\n",
        "from pydrive.drive import GoogleDrive\n",
        "from google.colab import auth\n",
        "from oauth2client.client import GoogleCredentials"
      ],
      "execution_count": null,
      "outputs": []
    },
    {
      "cell_type": "code",
      "metadata": {
        "id": "Sr3MSavEbMJn"
      },
      "source": [
        "auth.authenticate_user()\n",
        "gauth = GoogleAuth()\n",
        "gauth.credentials = GoogleCredentials.get_application_default()\n",
        "drive = GoogleDrive(gauth)"
      ],
      "execution_count": null,
      "outputs": []
    },
    {
      "cell_type": "code",
      "metadata": {
        "id": "kpJ8w9Mx7_gI"
      },
      "source": [
        "downloaded = drive.CreateFile({'id':'1PCi4oq0jPcwipe3qKV3Wr6N7La1Ffi-a'}) \n",
        "downloaded.GetContentFile('training_output.xlsx')\n",
        "downloaded = drive.CreateFile({'id':'1MoqnataPMfrGfLyLZ2FWWIXLSctWJQgW'}) \n",
        "downloaded.GetContentFile('test_output.xlsx')\n",
        "downloaded = drive.CreateFile({'id':'1K2q1GW_PXa9OF_9B5AWCBtF1ydq9AL-z'}) \n",
        "downloaded.GetContentFile('training_feature_matrix.xlsx')\n",
        "downloaded = drive.CreateFile({'id':'1u-mUX_4ERXJnCTdu3aeQIOiNfAwVqyDq'}) \n",
        "downloaded.GetContentFile('test_feature_matrix.xlsx')"
      ],
      "execution_count": null,
      "outputs": []
    },
    {
      "cell_type": "code",
      "metadata": {
        "id": "J7ev-3DT8RXm"
      },
      "source": [
        "import pandas as pd\n",
        "import numpy as np\n",
        "import matplotlib.pyplot as plt\n",
        "\n",
        "training_output=pd.read_excel('training_output.xlsx')\n",
        "test_output=pd.read_excel('test_output.xlsx')\n",
        "training_feature_matrix=pd.read_excel('training_feature_matrix.xlsx')\n",
        "test_feature_matrix=pd.read_excel('test_feature_matrix.xlsx')"
      ],
      "execution_count": null,
      "outputs": []
    },
    {
      "cell_type": "code",
      "metadata": {
        "id": "d0QA30sF8UIf"
      },
      "source": [
        "w=np.zeros((1,3))"
      ],
      "execution_count": null,
      "outputs": []
    },
    {
      "cell_type": "code",
      "metadata": {
        "id": "IgMBkbkU8WnT"
      },
      "source": [
        "x=training_feature_matrix.to_numpy()\n",
        "y=training_output.to_numpy()\n",
        "x_bar=np.mean(x,axis=0)\n",
        "x_std=np.std(x,axis=0)\n",
        "x_new=(x-x_bar)/(x_std)\n",
        "column_of_ones=np.ones(244).T\n",
        "x_new2=np.insert(x_new, 0,column_of_ones, axis=1)\n",
        "y_bar=np.mean(y,axis=0)\n",
        "y_std=np.std(y,axis=0)\n",
        "y_new=(y-y_bar)/(y_std)"
      ],
      "execution_count": null,
      "outputs": []
    },
    {
      "cell_type": "code",
      "metadata": {
        "id": "W2atOTBpbze_"
      },
      "source": [
        "x_test=test_feature_matrix.to_numpy()\n",
        "y_test=test_output.to_numpy()\n",
        "x_test_new=(x_test-x_bar)/(x_std)\n",
        "ones_column=np.ones(103)\n",
        "x_test_new2=np.insert(x_test_new,0,ones_column, axis=1)\n",
        "y_test_new=(y_test-y_bar)/(y_std)"
      ],
      "execution_count": null,
      "outputs": []
    },
    {
      "cell_type": "code",
      "metadata": {
        "id": "LJpee5YjcBIb"
      },
      "source": [
        "def cost_func(x,y,w):\n",
        "  J=0\n",
        "  for i in range(244):\n",
        "    J=J+(0.5/m)*(np.dot(w,x[i].T)-y[i])**2\n",
        "  return J\n",
        "\n",
        "def gradient(X,Y,batch_size,w):\n",
        "  for i in range(m):\n",
        "    for j in range(batch_size):\n",
        "        grad=(np.dot(w,X[i].T)-Y[i])*X[i,j]\n",
        "  return grad"
      ],
      "execution_count": null,
      "outputs": []
    },
    {
      "cell_type": "code",
      "metadata": {
        "id": "RkVhaj0ucDTG"
      },
      "source": [
        "def create_minibatches(x,y,batch_size):\n",
        "  i=0\n",
        "  mini_batches=[]\n",
        "  data=np.hstack((x,y))\n",
        "  np.random.shuffle(data)\n",
        "  number_rows=data.shape[0]\n",
        "\n",
        "  for i in range(int((number_rows+1)/batch_size)):\n",
        "    mini_batch=data[i*batch_size:(i+1)*batch_size,:]\n",
        "    x_minibatch=mini_batch[:,:-1]\n",
        "    y_minibatch=mini_batch[:,-1].reshape((-1,1))\n",
        "    mini_batches.append((x_minibatch,y_minibatch))\n",
        "  if number_rows % batch_size!=0:\n",
        "    mini_batch=data[i*batch_size:number_rows]\n",
        "    x_minibatch=mini_batch[:,:-1]\n",
        "    y_minibatch=mini_batch[:-1].reshape((-1,1))\n",
        "    mini_batches.append((x_minibatch,y_minibatch))\n",
        "    #new=np.array(mini_batches)\n",
        "  return np.array(mini_batches).shape"
      ],
      "execution_count": null,
      "outputs": []
    },
    {
      "cell_type": "code",
      "metadata": {
        "id": "Qbsjcl7_sMOj",
        "outputId": "8dc2c65b-76ad-4201-9218-276c492faf1c",
        "colab": {
          "base_uri": "https://localhost:8080/"
        }
      },
      "source": [
        "create_minibatches(x_new2,y_new,10)"
      ],
      "execution_count": null,
      "outputs": [
        {
          "output_type": "execute_result",
          "data": {
            "text/plain": [
              "(25, 2)"
            ]
          },
          "metadata": {
            "tags": []
          },
          "execution_count": 51
        }
      ]
    },
    {
      "cell_type": "code",
      "metadata": {
        "id": "Kzkja1CGcsCY"
      },
      "source": [
        "m,n=np.shape(x_new2)\n",
        "w=np.zeros((1,3))\n",
        "W=np.zeros((m,3))\n",
        "JJ=np.zeros((m,1))\n",
        "def gradient_descent(x,y,batch_size,alpha,iterations):\n",
        "  mse=0\n",
        "  W[0,0]=w[0,0]\n",
        "  W[0,1]=w[0,1]\n",
        "  W[0,1]=w[0,1]\n",
        "  for i in range(iterations):\n",
        "    mini_batches=create_minibatches(x,y,batch_size)\n",
        "  \n",
        "  for mini_batch in mini_batches:\n",
        "    x_minibatch,y_minibatch=mini_batch\n",
        "    for j in range(3):\n",
        "          w[0,j]=w[0,j]-alpha*gradient(x_minibatch,y_minibatch,batch_size,w[0,j])  \n",
        "    W[mini_batch]=w\n",
        "    JJ[mini_batch]=cost_func(x,y,w)\n",
        "    plt.plot(JJ)\n",
        "  return JJ"
      ],
      "execution_count": null,
      "outputs": []
    },
    {
      "cell_type": "code",
      "metadata": {
        "id": "SgtWG97zq9jp",
        "outputId": "de882bca-04ef-41ae-d778-3312b006a644",
        "colab": {
          "base_uri": "https://localhost:8080/",
          "height": 270
        }
      },
      "source": [
        "gradient_descent(x_new2,y_new,2,0.001,100)"
      ],
      "execution_count": null,
      "outputs": [
        {
          "output_type": "error",
          "ename": "ValueError",
          "evalue": "ignored",
          "traceback": [
            "\u001b[0;31m---------------------------------------------------------------------------\u001b[0m",
            "\u001b[0;31mValueError\u001b[0m                                Traceback (most recent call last)",
            "\u001b[0;32m<ipython-input-49-eb98497b0e63>\u001b[0m in \u001b[0;36m<module>\u001b[0;34m()\u001b[0m\n\u001b[0;32m----> 1\u001b[0;31m \u001b[0mgradient_descent\u001b[0m\u001b[0;34m(\u001b[0m\u001b[0mx_new2\u001b[0m\u001b[0;34m,\u001b[0m\u001b[0my_new\u001b[0m\u001b[0;34m,\u001b[0m\u001b[0;36m2\u001b[0m\u001b[0;34m,\u001b[0m\u001b[0;36m0.001\u001b[0m\u001b[0;34m,\u001b[0m\u001b[0;36m100\u001b[0m\u001b[0;34m)\u001b[0m\u001b[0;34m\u001b[0m\u001b[0;34m\u001b[0m\u001b[0m\n\u001b[0m",
            "\u001b[0;32m<ipython-input-48-2fa0b60d5cc8>\u001b[0m in \u001b[0;36mgradient_descent\u001b[0;34m(x, y, batch_size, alpha, iterations)\u001b[0m\n\u001b[1;32m      9\u001b[0m   \u001b[0mW\u001b[0m\u001b[0;34m[\u001b[0m\u001b[0;36m0\u001b[0m\u001b[0;34m,\u001b[0m\u001b[0;36m1\u001b[0m\u001b[0;34m]\u001b[0m\u001b[0;34m=\u001b[0m\u001b[0mw\u001b[0m\u001b[0;34m[\u001b[0m\u001b[0;36m0\u001b[0m\u001b[0;34m,\u001b[0m\u001b[0;36m1\u001b[0m\u001b[0;34m]\u001b[0m\u001b[0;34m\u001b[0m\u001b[0;34m\u001b[0m\u001b[0m\n\u001b[1;32m     10\u001b[0m   \u001b[0;32mfor\u001b[0m \u001b[0mi\u001b[0m \u001b[0;32min\u001b[0m \u001b[0mrange\u001b[0m\u001b[0;34m(\u001b[0m\u001b[0miterations\u001b[0m\u001b[0;34m)\u001b[0m\u001b[0;34m:\u001b[0m\u001b[0;34m\u001b[0m\u001b[0;34m\u001b[0m\u001b[0m\n\u001b[0;32m---> 11\u001b[0;31m     \u001b[0mmini_batches\u001b[0m\u001b[0;34m=\u001b[0m\u001b[0mcreate_minibatches\u001b[0m\u001b[0;34m(\u001b[0m\u001b[0mx\u001b[0m\u001b[0;34m,\u001b[0m\u001b[0my\u001b[0m\u001b[0;34m,\u001b[0m\u001b[0mbatch_size\u001b[0m\u001b[0;34m)\u001b[0m\u001b[0;34m\u001b[0m\u001b[0;34m\u001b[0m\u001b[0m\n\u001b[0m\u001b[1;32m     12\u001b[0m \u001b[0;34m\u001b[0m\u001b[0m\n\u001b[1;32m     13\u001b[0m   \u001b[0;32mfor\u001b[0m \u001b[0mmini_batch\u001b[0m \u001b[0;32min\u001b[0m \u001b[0mmini_batches\u001b[0m\u001b[0;34m:\u001b[0m\u001b[0;34m\u001b[0m\u001b[0;34m\u001b[0m\u001b[0m\n",
            "\u001b[0;32m<ipython-input-46-2993179685dd>\u001b[0m in \u001b[0;36mcreate_minibatches\u001b[0;34m(x, y, batch_size)\u001b[0m\n\u001b[1;32m     17\u001b[0m     \u001b[0mmini_batches\u001b[0m\u001b[0;34m.\u001b[0m\u001b[0mappend\u001b[0m\u001b[0;34m(\u001b[0m\u001b[0;34m(\u001b[0m\u001b[0mx_minibatch\u001b[0m\u001b[0;34m,\u001b[0m\u001b[0my_minibatch\u001b[0m\u001b[0;34m)\u001b[0m\u001b[0;34m)\u001b[0m\u001b[0;34m\u001b[0m\u001b[0;34m\u001b[0m\u001b[0m\n\u001b[1;32m     18\u001b[0m     \u001b[0;31m#new=np.array(mini_batches)\u001b[0m\u001b[0;34m\u001b[0m\u001b[0;34m\u001b[0m\u001b[0;34m\u001b[0m\u001b[0m\n\u001b[0;32m---> 19\u001b[0;31m   \u001b[0;32mreturn\u001b[0m \u001b[0mnp\u001b[0m\u001b[0;34m.\u001b[0m\u001b[0marray\u001b[0m\u001b[0;34m(\u001b[0m\u001b[0mmini_batches\u001b[0m\u001b[0;34m)\u001b[0m\u001b[0;34m\u001b[0m\u001b[0;34m\u001b[0m\u001b[0m\n\u001b[0m",
            "\u001b[0;31mValueError\u001b[0m: could not broadcast input array from shape (2,3) into shape (2)"
          ]
        }
      ]
    },
    {
      "cell_type": "code",
      "metadata": {
        "id": "vRYt7vq2dMaI"
      },
      "source": [
        "m,n=np.shape(x_new2)\n",
        "w2=np.zeros((1,3))\n",
        "W2=np.zeros((m,3))\n",
        "JJ2=np.zeros((m,1))\n",
        "def gradient_descentsto(X,Y,alpha):\n",
        "  mse=0\n",
        "  W2[0,0]=w2[0,0]\n",
        "  W2[0,1]=w2[0,1]\n",
        "  W2[0,1]=w2[0,1]\n",
        "\n",
        "  for i in range(m):\n",
        "    for j in range(3):\n",
        "      w2[0,j]=w2[0,j]-alpha*(np.dot(w,X[i].T)-Y[i])*X[i,j]\n",
        "    W2[i]=w2\n",
        "    JJ[i]=cost_func(X,Y,w2)\n",
        "  for i in range(m):\n",
        "    diff_square=(np.dot(w2,X[i].T)-Y)**2\n",
        "    mse=mse+diff_square\n",
        "  mse=mse/m\n",
        "  plt.plot(JJ)\n",
        "  a=np.array(W2[:,0])\n",
        "  b=np.array(W2[:,1])\n",
        "  c=np.array(W2[:,2])\n",
        "  return (mse[m-1])\n",
        "  \n",
        "\n"
      ],
      "execution_count": null,
      "outputs": []
    },
    {
      "cell_type": "code",
      "metadata": {
        "id": "GYdJgE7K4BjG",
        "outputId": "fe1c7ca9-ab08-4ad3-9144-df9d07fbdf0c",
        "colab": {
          "base_uri": "https://localhost:8080/",
          "height": 282
        }
      },
      "source": [
        "gradient_descentsto(x_new2,y_new,0.001)"
      ],
      "execution_count": null,
      "outputs": [
        {
          "output_type": "execute_result",
          "data": {
            "text/plain": [
              "array([2.16665568])"
            ]
          },
          "metadata": {
            "tags": []
          },
          "execution_count": 28
        },
        {
          "output_type": "display_data",
          "data": {
            "image/png": "[encoded data removed]",
            "text/plain": [
              "<Figure size 432x288 with 1 Axes>"
            ]
          },
          "metadata": {
            "tags": [],
            "needs_background": "light"
          }
        }
      ]
    },
    {
      "cell_type": "code",
      "metadata": {
        "id": "8POF-bEXxYJ2"
      },
      "source": [
        "def test_modelsto(x,y):\n",
        "  m,n=np.shape(x_test_new2)\n",
        "  predicted_values=np.zeros((m,1))\n",
        "  mse=0\n",
        "  for i in range(m):\n",
        "    predicted_values[i]= W2[m-1,0]*x[i,0]+W2[m-1,1]*x[i,1]+W2[m-1,2]*x[i,2]\n",
        "  for i in range(m):\n",
        "    diff_square=(predicted_values[i]-y[i])**2\n",
        "    mse=mse+diff_square\n",
        "  mse=mse/m\n",
        "  print(\"MSE=\")\n",
        "  return mse[0]"
      ],
      "execution_count": null,
      "outputs": []
    },
    {
      "cell_type": "code",
      "metadata": {
        "id": "CDDMkZkc0gYX",
        "outputId": "885f9434-c912-4a4c-be30-3800a7b45a99",
        "colab": {
          "base_uri": "https://localhost:8080/"
        }
      },
      "source": [
        "test_modelsto(x_test_new2,y_test_new)"
      ],
      "execution_count": null,
      "outputs": [
        {
          "output_type": "stream",
          "text": [
            "MSE=\n"
          ],
          "name": "stdout"
        },
        {
          "output_type": "execute_result",
          "data": {
            "text/plain": [
              "3.0625952990915177"
            ]
          },
          "metadata": {
            "tags": []
          },
          "execution_count": 14
        }
      ]
    },
    {
      "cell_type": "code",
      "metadata": {
        "id": "_Kr1HMtFq6cs"
      },
      "source": [
        ""
      ],
      "execution_count": null,
      "outputs": []
    }
  ]
}