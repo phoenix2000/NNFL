{
  "nbformat": 4,
  "nbformat_minor": 0,
  "metadata": {
    "colab": {
      "name": "NNFL_Q3.ipynb",
      "provenance": [],
      "collapsed_sections": [],
      "authorship_tag": "ABX9TyOfIOBTQar8ZXfOZieN81qj",
      "include_colab_link": true
    },
    "kernelspec": {
      "name": "python3",
      "display_name": "Python 3"
    }
  },
  "cells": [
    {
      "cell_type": "markdown",
      "metadata": {
        "id": "view-in-github",
        "colab_type": "text"
      },
      "source": [
        "<a href=\"https://colab.research.google.com/github/phoenix2000/NNFL/blob/main/NNFL_Q3.ipynb\" target=\"_parent\"><img src=\"https://colab.research.google.com/assets/colab-badge.svg\" alt=\"Open In Colab\"/></a>"
      ]
    },
    {
      "cell_type": "code",
      "metadata": {
        "id": "TcQ1Dhgf63LS"
      },
      "source": [
        "!pip install -U -q PyDrive\n",
        "from pydrive.auth import GoogleAuth\n",
        "from pydrive.drive import GoogleDrive\n",
        "from google.colab import auth\n",
        "from oauth2client.client import GoogleCredentials"
      ],
      "execution_count": null,
      "outputs": []
    },
    {
      "cell_type": "code",
      "metadata": {
        "id": "fnEHjIJe7XC5"
      },
      "source": [
        "auth.authenticate_user()\n",
        "gauth = GoogleAuth()\n",
        "gauth.credentials = GoogleCredentials.get_application_default()\n",
        "drive = GoogleDrive(gauth)"
      ],
      "execution_count": null,
      "outputs": []
    },
    {
      "cell_type": "code",
      "metadata": {
        "id": "nsD-fW_37YNh"
      },
      "source": [
        "downloaded = drive.CreateFile({'id':'1PCi4oq0jPcwipe3qKV3Wr6N7La1Ffi-a'}) \n",
        "downloaded.GetContentFile('training_output.xlsx')\n",
        "downloaded = drive.CreateFile({'id':'1MoqnataPMfrGfLyLZ2FWWIXLSctWJQgW'}) \n",
        "downloaded.GetContentFile('test_output.xlsx')\n",
        "downloaded = drive.CreateFile({'id':'1K2q1GW_PXa9OF_9B5AWCBtF1ydq9AL-z'}) \n",
        "downloaded.GetContentFile('training_feature_matrix.xlsx')\n",
        "downloaded = drive.CreateFile({'id':'1u-mUX_4ERXJnCTdu3aeQIOiNfAwVqyDq'}) \n",
        "downloaded.GetContentFile('test_feature_matrix.xlsx')"
      ],
      "execution_count": null,
      "outputs": []
    },
    {
      "cell_type": "code",
      "metadata": {
        "id": "byyw7nYS7h0X"
      },
      "source": [
        "#import libraries\n",
        "import pandas as pd\n",
        "import numpy as np\n",
        "import matplotlib.pyplot as plt\n",
        "\n",
        "training_output=pd.read_excel('training_output.xlsx')\n",
        "test_output=pd.read_excel('test_output.xlsx')\n",
        "training_feature_matrix=pd.read_excel('training_feature_matrix.xlsx')\n",
        "test_feature_matrix=pd.read_excel('test_feature_matrix.xlsx')"
      ],
      "execution_count": null,
      "outputs": []
    },
    {
      "cell_type": "code",
      "metadata": {
        "id": "pPOFVUgs9i5e"
      },
      "source": [
        "x=training_feature_matrix.to_numpy()\n",
        "y=training_output.to_numpy()\n",
        "x_bar=np.mean(x,axis=0)\n",
        "x_std=np.std(x,axis=0)\n",
        "x_new=(x-x_bar)/(x_std)\n",
        "column_of_ones=np.ones(244).T\n",
        "x_new2=np.insert(x_new, 0,column_of_ones, axis=1)\n",
        "y_bar=np.mean(y,axis=0)\n",
        "y_std=np.std(y,axis=0)\n",
        "y_new=(y-y_bar)/(y_std)"
      ],
      "execution_count": null,
      "outputs": []
    },
    {
      "cell_type": "code",
      "metadata": {
        "id": "8HQU9qGX9krn"
      },
      "source": [
        "x_test=test_feature_matrix.to_numpy()\n",
        "y_test=test_output.to_numpy()\n",
        "x_test_new=(x_test-x_bar)/(x_std)\n",
        "ones_column=np.ones(103)\n",
        "x_test_new2=np.insert(x_test_new,0,ones_column, axis=1)\n",
        "y_test_new=(y_test-y_bar)/(y_std)\n",
        "m,z=np.shape(x_test)"
      ],
      "execution_count": null,
      "outputs": []
    },
    {
      "cell_type": "code",
      "metadata": {
        "id": "w6dIaPwN7jWD"
      },
      "source": [
        "#cost function\n",
        "def cost_func(x,y,w,lamb):\n",
        "  J=0\n",
        "  J2=0\n",
        "  for i in range(m):\n",
        "    J=J+(np.dot(w,x[i].T)-y[i])**2\n",
        "  for i in range(3):\n",
        "    J2=J2+(w[0,i])**2\n",
        "  J_final=(0.5/m)*(J+lamb*J2)\n",
        "  J_new=J_final\n",
        "  J_final=0\n",
        "  return J_new"
      ],
      "execution_count": null,
      "outputs": []
    },
    {
      "cell_type": "code",
      "metadata": {
        "id": "o5zQVIEf8YDg"
      },
      "source": [
        "#batch gradient descent \n",
        "m,n=np.shape(x_new2)\n",
        "w=np.zeros((1,3))\n",
        "W=np.zeros((m,3))\n",
        "JJ=np.zeros((m,1))\n",
        "def gradient_descent(X,Y,alpha,lamb):\n",
        "  mse=0\n",
        "  W[0,0]=w[0,0]\n",
        "  W[0,1]=w[0,1]\n",
        "  W[0,1]=w[0,1]\n",
        "  for k in range(m):\n",
        "    for i in range(m):\n",
        "      for j in range(3):\n",
        "        w[0,j]=w[0,j]-alpha*((np.dot(w,X[i].T)-Y[i])*X[i,j] + lamb*w[0,j])\n",
        "    W[k]=w\n",
        "    JJ[k]=cost_func(X,Y,w,lamb)\n",
        "  for i in range(m):\n",
        "    diff_square=(np.dot(w,X[i].T)-Y)**2\n",
        "    mse=mse+diff_square\n",
        "  mse=mse/m\n",
        "  plt.plot(JJ)\n",
        "  a=np.array(W[:,0])\n",
        "  b=np.array(W[:,1])\n",
        "  fig = plt.figure()\n",
        "  ax = fig.gca(projection='3d')\n",
        "  p=JJ.reshape((244,))\n",
        "  ax.plot(a,b,p)\n",
        "  ax.set_xlabel('W1')\n",
        "  ax.set_ylabel('W2')\n",
        "  ax.set_zlabel('Cost')\n",
        "  return (mse[m-1])\n",
        "  \n",
        "\n"
      ],
      "execution_count": null,
      "outputs": []
    },
    {
      "cell_type": "code",
      "metadata": {
        "id": "qckTlvbDupXM"
      },
      "source": [
        "gradient_descent(x_new2,y_new,0.001,0.04)"
      ],
      "execution_count": null,
      "outputs": []
    },
    {
      "cell_type": "code",
      "metadata": {
        "id": "sg7KWSYs-ja9"
      },
      "source": [
        "#stochastic gradient descent\n",
        "m,n=np.shape(x_new2)\n",
        "w2=np.zeros((1,3))\n",
        "W2=np.zeros((m,3))\n",
        "JJ2=np.zeros((m,1))\n",
        "def gradient_descentsto(X,Y,alpha,lamb):\n",
        "  mse=0\n",
        "  W2[0,0]=w2[0,0]\n",
        "  W2[0,1]=w2[0,1]\n",
        "  W2[0,1]=w2[0,1]\n",
        "\n",
        "  for i in range(m):\n",
        "    for j in range(3):\n",
        "      w2[0,j]=w2[0,j]-alpha*(np.dot(w,X[i].T)-Y[i])*X[i,j]+lamb*w2[0,j]\n",
        "    W2[i]=w2\n",
        "    JJ[i]=cost_func(X,Y,w2,lamb)\n",
        "  for i in range(m):\n",
        "    diff_square=(np.dot(w2,X[i].T)-Y)**2\n",
        "    mse=mse+diff_square\n",
        "  mse=mse/m\n",
        "  plt.plot(JJ)\n",
        "  a=np.array(W2[:,0])\n",
        "  b=np.array(W2[:,1])\n",
        "  c=np.array(W2[:,2])\n",
        "  fig = plt.figure()\n",
        "  ax = fig.gca(projection='3d')\n",
        "  p=JJ.reshape((244,))\n",
        "  ax.plot(a,b,p)\n",
        "  ax.set_xlabel('W1')\n",
        "  ax.set_ylabel('W2')\n",
        "  ax.set_zlabel('Cost')\n",
        "  return (mse[m-1])\n",
        "  \n",
        "\n"
      ],
      "execution_count": null,
      "outputs": []
    },
    {
      "cell_type": "code",
      "metadata": {
        "id": "N3Cl3qbPvJTd",
        "outputId": "a1dfd2b8-9e3f-4e40-ff47-bd1a58c35bf6",
        "colab": {
          "base_uri": "https://localhost:8080/",
          "height": 524
        }
      },
      "source": [
        "gradient_descentsto(x_new2,y_new,0.0000001,0.001)"
      ],
      "execution_count": null,
      "outputs": [
        {
          "output_type": "execute_result",
          "data": {
            "text/plain": [
              "array([2.16049143])"
            ]
          },
          "metadata": {
            "tags": []
          },
          "execution_count": 27
        },
        {
          "output_type": "display_data",
          "data": {
            "image/png": "[encoded data removed]",
            "text/plain": [
              "<Figure size 432x288 with 1 Axes>"
            ]
          },
          "metadata": {
            "tags": [],
            "needs_background": "light"
          }
        },
        {
          "output_type": "display_data",
          "data": {
            "image/png": "[encoded data removed]",
            "text/plain": [
              "<Figure size 432x288 with 1 Axes>"
            ]
          },
          "metadata": {
            "tags": [],
            "needs_background": "light"
          }
        }
      ]
    },
    {
      "cell_type": "code",
      "metadata": {
        "id": "JunoOaiy_PDN"
      },
      "source": [
        "#test for batch gradient descent\n",
        "def test_model(x,y):\n",
        "  m,n=np.shape(x_test_new2)\n",
        "  predicted_values=np.zeros((m,1))\n",
        "  mse=0\n",
        "  for i in range(m):\n",
        "    predicted_values[i]= W[m-1,0]*x[i,0]+W[m-1,1]*x[i,1]+W[m-1,2]*x[i,2]\n",
        "  for i in range(m):\n",
        "    diff_square=(predicted_values[i]-y[i])**2\n",
        "    mse=mse+diff_square\n",
        "  mse=mse/m\n",
        "  print(\"MSE=\")\n",
        "  return mse[0]\n",
        "  "
      ],
      "execution_count": null,
      "outputs": []
    },
    {
      "cell_type": "code",
      "metadata": {
        "id": "O3iK97lP_nHV"
      },
      "source": [
        "#test for stochastic gradient descent\n",
        "def test_modelsto(x,y):\n",
        "  m,n=np.shape(x_test_new2)\n",
        "  predicted_values=np.zeros((m,1))\n",
        "  mse=0\n",
        "  for i in range(m):\n",
        "    predicted_values[i]= W2[m-1,0]*x[i,0]+W2[m-1,1]*x[i,1]+W2[m-1,2]*x[i,2]\n",
        "  for i in range(m):\n",
        "    diff_square=(predicted_values[i]-y[i])**2\n",
        "    mse=mse+diff_square\n",
        "  mse=mse/m\n",
        "  print(\"MSE=\")\n",
        "  return mse[0]"
      ],
      "execution_count": null,
      "outputs": []
    },
    {
      "cell_type": "code",
      "metadata": {
        "id": "caA0nJ5vPONG",
        "outputId": "8f6167c5-3ad2-42dc-8b69-f3d07276ddc5",
        "colab": {
          "base_uri": "https://localhost:8080/"
        }
      },
      "source": [
        "test_model(x_test_new2,y_test_new)"
      ],
      "execution_count": null,
      "outputs": [
        {
          "output_type": "stream",
          "text": [
            "MSE=\n"
          ],
          "name": "stdout"
        },
        {
          "output_type": "execute_result",
          "data": {
            "text/plain": [
              "3.1214969522135383"
            ]
          },
          "metadata": {
            "tags": []
          },
          "execution_count": 30
        }
      ]
    },
    {
      "cell_type": "code",
      "metadata": {
        "id": "mQxP2IpkQt8I",
        "outputId": "af232193-f56b-4dd9-d601-f27422705fca",
        "colab": {
          "base_uri": "https://localhost:8080/"
        }
      },
      "source": [
        "test_modelsto(x_test_new2,y_test_new)"
      ],
      "execution_count": null,
      "outputs": [
        {
          "output_type": "stream",
          "text": [
            "MSE=\n"
          ],
          "name": "stdout"
        },
        {
          "output_type": "execute_result",
          "data": {
            "text/plain": [
              "3.1214903016096622"
            ]
          },
          "metadata": {
            "tags": []
          },
          "execution_count": 31
        }
      ]
    }
  ]
}