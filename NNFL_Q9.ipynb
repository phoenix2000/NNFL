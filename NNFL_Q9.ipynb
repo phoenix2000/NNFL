{
  "nbformat": 4,
  "nbformat_minor": 0,
  "metadata": {
    "colab": {
      "name": "NNFL_Q9.ipynb",
      "provenance": [],
      "authorship_tag": "ABX9TyPBJ9QPPT10z3s2k+CL3bPk",
      "include_colab_link": true
    },
    "kernelspec": {
      "name": "python3",
      "display_name": "Python 3"
    }
  },
  "cells": [
    {
      "cell_type": "markdown",
      "metadata": {
        "id": "view-in-github",
        "colab_type": "text"
      },
      "source": [
        "<a href=\"https://colab.research.google.com/github/phoenix2000/NNFL/blob/main/NNFL_Q9.ipynb\" target=\"_parent\"><img src=\"https://colab.research.google.com/assets/colab-badge.svg\" alt=\"Open In Colab\"/></a>"
      ]
    },
    {
      "cell_type": "code",
      "metadata": {
        "id": "z0eM7zThqpUe"
      },
      "source": [
        "!pip install -U -q PyDrive\n",
        "from pydrive.auth import GoogleAuth\n",
        "from pydrive.drive import GoogleDrive\n",
        "from google.colab import auth\n",
        "from oauth2client.client import GoogleCredentials"
      ],
      "execution_count": null,
      "outputs": []
    },
    {
      "cell_type": "code",
      "metadata": {
        "id": "tDgMCris3ZvV"
      },
      "source": [
        "auth.authenticate_user()\n",
        "gauth = GoogleAuth()\n",
        "gauth.credentials = GoogleCredentials.get_application_default()\n",
        "drive = GoogleDrive(gauth)"
      ],
      "execution_count": null,
      "outputs": []
    },
    {
      "cell_type": "code",
      "metadata": {
        "id": "poJZUuM83dOR"
      },
      "source": [
        "downloaded = drive.CreateFile({'id':'1q88ia09O_90sQZXMt2w8sIlNYbTWwlcY'}) \n",
        "downloaded.GetContentFile('data4.xlsx')"
      ],
      "execution_count": null,
      "outputs": []
    },
    {
      "cell_type": "code",
      "metadata": {
        "id": "Okefk5E731iy"
      },
      "source": [
        "import pandas as pd\n",
        "import numpy as np\n",
        "import math \n",
        "import matplotlib.pyplot as plt\n",
        "import plotly.graph_objs as go\n",
        "from mpl_toolkits.mplot3d import Axes3D\n",
        "data1=pd.read_excel('data4.xlsx')"
      ],
      "execution_count": null,
      "outputs": []
    },
    {
      "cell_type": "code",
      "metadata": {
        "id": "vvPTMPWWCLv8",
        "outputId": "0fa3e843-0b47-40d0-c9ac-c9fd108e728c",
        "colab": {
          "base_uri": "https://localhost:8080/",
          "height": 168
        }
      },
      "source": [
        "data=data1.to_numpy()\n",
        "y_column=data[:,7]\n",
        "ones=np.ones((149))\n",
        "#data_final=np.insert(data,0,ones,axis=1)\n",
        "data_final=(data_final-np.mean(data_final))/np.std(data_final)\n",
        "y_column"
      ],
      "execution_count": null,
      "outputs": [
        {
          "output_type": "execute_result",
          "data": {
            "text/plain": [
              "array([1., 1., 1., 1., 1., 1., 1., 1., 1., 1., 1., 1., 1., 1., 1., 1., 1.,\n",
              "       1., 1., 1., 1., 1., 1., 1., 1., 1., 1., 1., 1., 1., 1., 1., 1., 1.,\n",
              "       1., 1., 1., 1., 1., 1., 1., 1., 1., 1., 1., 1., 1., 1., 1., 2., 2.,\n",
              "       2., 2., 2., 2., 2., 2., 2., 2., 2., 2., 2., 2., 2., 2., 2., 2., 2.,\n",
              "       2., 2., 2., 2., 2., 2., 2., 2., 2., 2., 2., 2., 2., 2., 2., 2., 2.,\n",
              "       2., 2., 2., 2., 2., 2., 2., 2., 2., 2., 2., 2., 2., 2., 3., 3., 3.,\n",
              "       3., 3., 3., 3., 3., 3., 3., 3., 3., 3., 3., 3., 3., 3., 3., 3., 3.,\n",
              "       3., 3., 3., 3., 3., 3., 3., 3., 3., 3., 3., 3., 3., 3., 3., 3., 3.,\n",
              "       3., 3., 3., 3., 3., 3., 3., 3., 3., 3., 3., 3., 3.])"
            ]
          },
          "metadata": {
            "tags": []
          },
          "execution_count": 89
        }
      ]
    },
    {
      "cell_type": "code",
      "metadata": {
        "id": "KiPB3NiJ36df"
      },
      "source": [
        "#splitting data\n",
        "\n",
        "np.random.shuffle(data_final)\n",
        "r=int(len(data_final)*0.6)\n",
        "x_train1=data_final[:r,0:8]\n",
        "y_train1=y_column[:r]\n",
        "x_test1=data_final[r:,0:8]\n",
        "y_test1=y_column[r:]\n",
        "\n",
        "x_train21=data_final[:int(.2*149),0:8]\n",
        "y_train21=y_column[:int(.2*149)]\n",
        "x_train22=data_final[int(0.6*149):int(1*149),0:8]\n",
        "y_train22=y_column[int(0.6*149):int(1*149)]\n",
        "x_train2=np.concatenate((x_train21,x_train22),axis=0)\n",
        "y_train2=np.concatenate((y_train21,y_train22),axis=0)\n",
        "x_test2=data_final[int(.2*149):int(.6*149),0:8]\n",
        "y_test2=y_column[int(.2*149):int(.6*149)]\n",
        "\n",
        "x_train31=data_final[:int(.4*149),0:8]\n",
        "y_train31=y_column[:int(.4*149)]\n",
        "x_train32=data_final[int(0.8*149):int(1*149),0:8]\n",
        "y_train32=y_column[int(0.8*149):int(1*149)]\n",
        "x_train3=np.concatenate((x_train31,x_train32),axis=0)\n",
        "y_train3=np.concatenate((y_train31,y_train32),axis=0)\n",
        "x_test3=data_final[int(.4*149):int(.8*149),0:8]\n",
        "y_test3=y_column[int(.4*149):int(.8*149)]\n",
        "\n",
        "x_train4=data_final[:int(.6*149),0:8]\n",
        "y_train4=y_column[:int(.6*149)]\n",
        "x_test4=data_final[int(.6*149):int(1*149),0:8]\n",
        "y_test4=y_column[int(.6*149):int(1*149)]\n",
        "\n",
        "x_train51=data_final[:int(.3*149),0:8]\n",
        "y_train51=y_column[:int(.3*149)]\n",
        "x_train52=data_final[int(0.7*149):int(1*149),0:8]\n",
        "y_train52=y_column[int(0.7*149):int(1*149)]\n",
        "x_train5=np.concatenate((x_train51,x_train52),axis=0)\n",
        "y_train5=np.concatenate((y_train51,y_train52),axis=0)\n",
        "x_test5=data_final[int(.3*149):int(.7*149),0:8]\n",
        "y_test5=y_column[int(.3*149):int(.7*149)]"
      ],
      "execution_count": null,
      "outputs": []
    },
    {
      "cell_type": "code",
      "metadata": {
        "id": "CJit0mbo2dZC"
      },
      "source": [
        "def sigmoid(x):\n",
        "  y=1/(1+np.exp(-x))\n",
        "  return y\n",
        "def cost_fun(x,y,w):\n",
        "  m,n=x_train1.shape\n",
        "  J=0\n",
        "  for i in range(m):\n",
        "   # J=-(1/m)*(y[i]*np.log(sigmoid(np.dot(w,x[i].T)))+(1-y[i])*(np.log(1-sigmoid(np.dot(w,x[i].T)))))\n",
        "       J=(0.5/m)*(np.dot(w,x[i].T)-y[i])**2\n",
        "\n",
        "  return J"
      ],
      "execution_count": null,
      "outputs": []
    },
    {
      "cell_type": "code",
      "metadata": {
        "id": "B0kDDeaM9w2F"
      },
      "source": [
        "m,n=np.shape(x_train1)\n",
        "w=np.zeros((1,8))\n",
        "W=np.zeros((m,8))\n",
        "JJ=np.zeros((m,1))\n",
        "def grad_desc(x,y,alpha,iterations):\n",
        "  W[0,0]=w[0,0]\n",
        "  W[0,1]=w[0,1]\n",
        "  W[0,2]=w[0,2]\n",
        "  W[0,3]=w[0,3]\n",
        "  W[0,4]=w[0,4]\n",
        "  W[0,5]=w[0,5]\n",
        "  W[0,6]=w[0,6]\n",
        "  W[0,7]=w[0,7]\n",
        "  for k in range(m):\n",
        "    for i in range(m):\n",
        "      for j in range(8):\n",
        "        val=w[0,j]-(1/m)*alpha*(y[i]*(1-sigmoid(np.dot(x[i],w.T)))-(1-y[i])*(sigmoid(np.dot(x[i],w.T))))*x[i,j]\n",
        "        w[0,j]=val\n",
        "    W[k]=w\n",
        "    JJ[k]=cost_fun(x,y,w)\n",
        "  plt.plot(JJ)"
      ],
      "execution_count": null,
      "outputs": []
    },
    {
      "cell_type": "code",
      "metadata": {
        "id": "Adp5yzaH96tT",
        "outputId": "59dba72e-293f-4404-ba17-b7802d442a28",
        "colab": {
          "base_uri": "https://localhost:8080/",
          "height": 266
        }
      },
      "source": [
        "grad_desc(x_train3,y_train3,0.01,100)"
      ],
      "execution_count": null,
      "outputs": [
        {
          "output_type": "display_data",
          "data": {
            "image/png": "[encoded data removed]",
            "text/plain": [
              "<Figure size 432x288 with 1 Axes>"
            ]
          },
          "metadata": {
            "tags": [],
            "needs_background": "light"
          }
        }
      ]
    },
    {
      "cell_type": "code",
      "metadata": {
        "id": "1Fda-s-teSU9"
      },
      "source": [
        ""
      ],
      "execution_count": null,
      "outputs": []
    }
  ]
}